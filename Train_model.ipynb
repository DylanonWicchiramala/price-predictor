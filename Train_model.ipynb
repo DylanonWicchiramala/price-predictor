{
 "cells": [
  {
   "cell_type": "code",
   "execution_count": 1,
   "metadata": {},
   "outputs": [],
   "source": [
    "import pandas as pd\n",
    "import numpy as np\n",
    "from sklearn.model_selection import train_test_split\n",
    "import pandas_ta as ta\n",
    "import getData"
   ]
  },
  {
   "cell_type": "markdown",
   "metadata": {},
   "source": [
    "## Getting stock price data"
   ]
  },
  {
   "cell_type": "code",
   "execution_count": 2,
   "metadata": {},
   "outputs": [],
   "source": [
    "tickers = 'BTC-USD'\n",
    "\n",
    "prices_df = getData.loader(tickers=tickers, interval=\"1d\", period='max', end=\"2023-01-01\").dataframe\n",
    "prices_df_val = getData.loader(tickers=tickers, interval=\"1d\", start='2023-01-01').dataframe"
   ]
  },
  {
   "cell_type": "markdown",
   "metadata": {},
   "source": [
    "## Initialize Dataloader"
   ]
  },
  {
   "cell_type": "code",
   "execution_count": 3,
   "metadata": {},
   "outputs": [],
   "source": [
    "import torch\n",
    "from torch.utils.data import Dataset\n",
    "from torch.utils.data import DataLoader, random_split\n",
    "\n",
    "class PriceHistoryDataset(Dataset):\n",
    "    def __init__(self, df, preprocess_param):\n",
    "        self.dataframe = df\n",
    "        self.preprocess_param = preprocess_param\n",
    "        \n",
    "        preprocessor = getData.preprocessor(df, preprocess_param)\n",
    "        self.X, self.y = preprocessor.dataset\n",
    "        self.date = preprocessor.date\n",
    "        \n",
    "    def __len__(self):\n",
    "        return self.X.shape[0]\n",
    "    \n",
    "    def __getitem__(self, idx):\n",
    "        return self.X[idx], self.y[idx]\n",
    "    "
   ]
  },
  {
   "cell_type": "code",
   "execution_count": 4,
   "metadata": {},
   "outputs": [],
   "source": [
    "features_x = ['High_delta', 'Low_delta', 'Close_delta', 'RSI_14', 'WMA_100_delta', 'WMA_200_delta']\n",
    "features_y = ['Close_delta']\n",
    "number_y = 1\n",
    "win_size = 7\n",
    "test_size = 0.2\n",
    "\n",
    "preprocess_param = {\n",
    "    'win_size':win_size,\n",
    "    'stride':1,\n",
    "    'number_y': number_y,\n",
    "    'features_x':features_x,\n",
    "    'features_y':features_y,\n",
    "    'convert_to_torch':True,\n",
    "}\n",
    "\n",
    "v_preprocess_param = {\n",
    "    'win_size':win_size,\n",
    "    'stride':1,\n",
    "    'number_y': number_y,\n",
    "    'features_x':features_x,\n",
    "    'features_y':features_y,\n",
    "    'convert_to_torch':True,\n",
    "}\n",
    "\n",
    "dataset = PriceHistoryDataset(prices_df, preprocess_param)\n",
    "val_set = PriceHistoryDataset(prices_df_val,  v_preprocess_param)\n",
    "\n",
    "# split train test set\n",
    "train_set, test_set = random_split(dataset, lengths=[1-test_size,  test_size])\n",
    "\n",
    "train_loader= DataLoader(train_set, batch_size=256, shuffle=False)\n",
    "test_loader = DataLoader(test_set, batch_size=256, shuffle=False)\n",
    "val_loader = DataLoader(val_set, batch_size=256, shuffle=False)"
   ]
  },
  {
   "cell_type": "markdown",
   "metadata": {},
   "source": [
    "## Train model"
   ]
  },
  {
   "cell_type": "code",
   "execution_count": 15,
   "metadata": {},
   "outputs": [],
   "source": [
    "import torch.nn as nn\n",
    "import pytorch_lightning as pl\n",
    "\n",
    "class LSTMModel(pl.LightningModule):\n",
    "\n",
    "    def __init__(self, hidden_size, lstm_layers, input_size=8, output_size=3, dropout=0.05):\n",
    "        super(LSTMModel, self).__init__()\n",
    "        \n",
    "        self.lstm = nn.LSTM(input_size=input_size, hidden_size=hidden_size, num_layers=lstm_layers, dropout=dropout)\n",
    "        \n",
    "        self.out_linear = nn.Linear(hidden_size, output_size)\n",
    "        \n",
    "        # keep track of losses function.\n",
    "        self.train_losses = []\n",
    "        self.test_losses = []\n",
    "        self.loss_func = nn.L1Loss()\n",
    "        \n",
    "        \n",
    "    def forward(self, x):\n",
    "        lstm_out, _ = self.lstm(x)\n",
    "        lstm_out = lstm_out[:,-1:,:]\n",
    "        \n",
    "        output = self.out_linear(lstm_out)\n",
    "        return output\n",
    "\n",
    "\n",
    "    def training_step(self, batch, batch_idx):\n",
    "        x, y = batch\n",
    "        y_hat = self(x)\n",
    "        loss = self.loss_func(y, y_hat)#.mean()\n",
    "        self.train_losses.append(loss)\n",
    "        return loss\n",
    "\n",
    "    \n",
    "    def test_step(self, batch, batch_idx):\n",
    "        x, y = batch\n",
    "        y_hat = self(x)\n",
    "        loss = self.loss_func(y, y_hat)#.mean()\n",
    "        self.test_losses.append(loss)\n",
    "        return loss\n",
    "    \n",
    "    \n",
    "    def on_test_epoch_end(self):\n",
    "        avg_loss = torch.stack(self.test_losses).mean()\n",
    "        print(f'Test Loss: {avg_loss}')\n",
    "        return {'L1_loss': avg_loss}\n",
    "    \n",
    "    \n",
    "    def on_train_epoch_end(self):\n",
    "        avg_loss = torch.stack(self.train_losses).mean()\n",
    "        print(f'Train Loss: {avg_loss}')\n",
    "        return {'L1_loss': avg_loss}\n",
    "    \n",
    "    \n",
    "    def configure_optimizers(self):\n",
    "        return torch.optim.Adam(self.parameters(), lr=0.02)\n",
    "\n",
    "\n",
    "# Initialize the model and trainer\n",
    "model = LSTMModel(input_size=len(features_x), output_size=len(features_y), hidden_size=64, lstm_layers=6, dropout=0.0)\n",
    "\n",
    "# checkpoint = torch.load(\"model\\LSTM_BTC\\checkpoints\\epoch=999-step=9000.ckpt\")\n",
    "# model.load_state_dict(checkpoint['state_dict'])"
   ]
  },
  {
   "cell_type": "code",
   "execution_count": 16,
   "metadata": {},
   "outputs": [
    {
     "name": "stdout",
     "output_type": "stream",
     "text": [
      "Number of parameters: 184897\n",
      "Number of layers: 3\n"
     ]
    }
   ],
   "source": [
    "print(\"Number of parameters:\", sum(p.numel() for p in model.parameters()))\n",
    "print(\"Number of layers:\", len(list(model.children())))"
   ]
  },
  {
   "cell_type": "code",
   "execution_count": 17,
   "metadata": {},
   "outputs": [
    {
     "name": "stderr",
     "output_type": "stream",
     "text": [
      "GPU available: True (cuda), used: True\n",
      "TPU available: False, using: 0 TPU cores\n",
      "IPU available: False, using: 0 IPUs\n",
      "HPU available: False, using: 0 HPUs\n",
      "c:\\Users\\dylan\\AppData\\Local\\Programs\\Python\\Python310\\lib\\site-packages\\pytorch_lightning\\trainer\\configuration_validator.py:72: UserWarning:\n",
      "\n",
      "You passed in a `val_dataloader` but have no `validation_step`. Skipping val loop.\n",
      "\n",
      "LOCAL_RANK: 0 - CUDA_VISIBLE_DEVICES: [0]\n",
      "\n",
      "  | Name       | Type   | Params\n",
      "--------------------------------------\n",
      "0 | lstm       | LSTM   | 184 K \n",
      "1 | out_linear | Linear | 65    \n",
      "2 | loss_func  | L1Loss | 0     \n",
      "--------------------------------------\n",
      "184 K     Trainable params\n",
      "0         Non-trainable params\n",
      "184 K     Total params\n",
      "0.740     Total estimated model params size (MB)\n"
     ]
    },
    {
     "name": "stderr",
     "output_type": "stream",
     "text": [
      "c:\\Users\\dylan\\AppData\\Local\\Programs\\Python\\Python310\\lib\\site-packages\\pytorch_lightning\\trainer\\connectors\\data_connector.py:441: PossibleUserWarning:\n",
      "\n",
      "The 'train_dataloader' does not have many workers which may be a bottleneck. Consider increasing the value of the `num_workers` argument` to `num_workers=15` in the `DataLoader` to improve performance.\n",
      "\n",
      "c:\\Users\\dylan\\AppData\\Local\\Programs\\Python\\Python310\\lib\\site-packages\\pytorch_lightning\\loops\\fit_loop.py:293: PossibleUserWarning:\n",
      "\n",
      "The number of training batches (9) is smaller than the logging interval Trainer(log_every_n_steps=50). Set a lower value for log_every_n_steps if you want to see logs for the training epoch.\n",
      "\n"
     ]
    },
    {
     "data": {
      "application/vnd.jupyter.widget-view+json": {
       "model_id": "57edfd55b37e4faf9b5ea8f369523e1d",
       "version_major": 2,
       "version_minor": 0
      },
      "text/plain": [
       "Training: |          | 0/? [00:00<?, ?it/s]"
      ]
     },
     "metadata": {},
     "output_type": "display_data"
    },
    {
     "name": "stdout",
     "output_type": "stream",
     "text": [
      "Train Loss: 0.25461435317993164\n",
      "Train Loss: 0.14376579225063324\n",
      "Train Loss: 0.10498038679361343\n",
      "Train Loss: 0.08528586477041245\n",
      "Train Loss: 0.07319655269384384\n",
      "Train Loss: 0.06513329595327377\n",
      "Train Loss: 0.059354301542043686\n",
      "Train Loss: 0.05500384420156479\n",
      "Train Loss: 0.051624979823827744\n",
      "Train Loss: 0.048915017396211624\n",
      "Train Loss: 0.04670380428433418\n",
      "Train Loss: 0.044851116836071014\n",
      "Train Loss: 0.0432945191860199\n",
      "Train Loss: 0.0419512577354908\n",
      "Train Loss: 0.040791530162096024\n",
      "Train Loss: 0.039778340607881546\n",
      "Train Loss: 0.03888154774904251\n",
      "Train Loss: 0.038084566593170166\n",
      "Train Loss: 0.03736812621355057\n",
      "Train Loss: 0.03672530874609947\n",
      "Train Loss: 0.03614521771669388\n",
      "Train Loss: 0.035613540560007095\n",
      "Train Loss: 0.035128187388181686\n",
      "Train Loss: 0.03468842804431915\n",
      "Train Loss: 0.03427521511912346\n",
      "Train Loss: 0.03389672935009003\n",
      "Train Loss: 0.033545851707458496\n",
      "Train Loss: 0.033214643597602844\n",
      "Train Loss: 0.03291332349181175\n",
      "Train Loss: 0.03262097388505936\n",
      "Train Loss: 0.032353103160858154\n",
      "Train Loss: 0.032105352729558945\n",
      "Train Loss: 0.031876079738140106\n",
      "Train Loss: 0.0316525399684906\n",
      "Train Loss: 0.031440842896699905\n",
      "Train Loss: 0.031243624165654182\n",
      "Train Loss: 0.031053008511662483\n",
      "Train Loss: 0.03087444230914116\n",
      "Train Loss: 0.03070056438446045\n",
      "Train Loss: 0.030536355450749397\n",
      "Train Loss: 0.030379140749573708\n",
      "Train Loss: 0.030227690935134888\n",
      "Train Loss: 0.03008240833878517\n",
      "Train Loss: 0.029948240146040916\n",
      "Train Loss: 0.029815608635544777\n",
      "Train Loss: 0.02968507818877697\n",
      "Train Loss: 0.02956722117960453\n",
      "Train Loss: 0.029454275965690613\n",
      "Train Loss: 0.029343869537115097\n",
      "Train Loss: 0.029235240072011948\n",
      "Train Loss: 0.029128199443221092\n",
      "Train Loss: 0.02902377024292946\n",
      "Train Loss: 0.02892117388546467\n",
      "Train Loss: 0.02882358804345131\n",
      "Train Loss: 0.028727419674396515\n",
      "Train Loss: 0.028633667156100273\n",
      "Train Loss: 0.028543004766106606\n",
      "Train Loss: 0.028458869084715843\n",
      "Train Loss: 0.028376523405313492\n",
      "Train Loss: 0.028296731412410736\n",
      "Train Loss: 0.02821478620171547\n",
      "Train Loss: 0.02813532017171383\n",
      "Train Loss: 0.028063589707016945\n",
      "Train Loss: 0.027989182621240616\n",
      "Train Loss: 0.027914252132177353\n",
      "Train Loss: 0.02784103713929653\n",
      "Train Loss: 0.027769003063440323\n",
      "Train Loss: 0.02770361676812172\n",
      "Train Loss: 0.027637159451842308\n",
      "Train Loss: 0.027572238817811012\n",
      "Train Loss: 0.02750742994248867\n",
      "Train Loss: 0.027443749830126762\n",
      "Train Loss: 0.02738073654472828\n",
      "Train Loss: 0.027320533990859985\n",
      "Train Loss: 0.027264991775155067\n",
      "Train Loss: 0.027207856997847557\n",
      "Train Loss: 0.02714838832616806\n",
      "Train Loss: 0.027091311290860176\n",
      "Train Loss: 0.02703383006155491\n",
      "Train Loss: 0.02697966992855072\n",
      "Train Loss: 0.02693529985845089\n",
      "Train Loss: 0.026886867359280586\n",
      "Train Loss: 0.026836926117539406\n",
      "Train Loss: 0.02678632363677025\n",
      "Train Loss: 0.026732856407761574\n",
      "Train Loss: 0.026680510491132736\n",
      "Train Loss: 0.026631589978933334\n",
      "Train Loss: 0.026583537459373474\n",
      "Train Loss: 0.026535486802458763\n",
      "Train Loss: 0.026487328112125397\n",
      "Train Loss: 0.026434078812599182\n",
      "Train Loss: 0.026384051889181137\n",
      "Train Loss: 0.026336049661040306\n",
      "Train Loss: 0.026286417618393898\n",
      "Train Loss: 0.026233987882733345\n",
      "Train Loss: 0.026185208931565285\n",
      "Train Loss: 0.02614000253379345\n",
      "Train Loss: 0.026092711836099625\n",
      "Train Loss: 0.026048824191093445\n",
      "Train Loss: 0.026007838547229767\n",
      "Train Loss: 0.025964120402932167\n",
      "Train Loss: 0.02592572011053562\n",
      "Train Loss: 0.025883039459586143\n",
      "Train Loss: 0.02583925984799862\n",
      "Train Loss: 0.02580087259411812\n",
      "Train Loss: 0.02575455978512764\n",
      "Train Loss: 0.02571023255586624\n",
      "Train Loss: 0.025665558874607086\n",
      "Train Loss: 0.025619981810450554\n",
      "Train Loss: 0.025574207305908203\n",
      "Train Loss: 0.025529509410262108\n",
      "Train Loss: 0.025486482307314873\n",
      "Train Loss: 0.025440603494644165\n",
      "Train Loss: 0.025396283715963364\n",
      "Train Loss: 0.02534876950085163\n",
      "Train Loss: 0.025297952815890312\n",
      "Train Loss: 0.025246115401387215\n",
      "Train Loss: 0.02519380860030651\n",
      "Train Loss: 0.025145148858428\n",
      "Train Loss: 0.025099147111177444\n",
      "Train Loss: 0.025054598227143288\n",
      "Train Loss: 0.02500445768237114\n",
      "Train Loss: 0.02495478093624115\n",
      "Train Loss: 0.02490396425127983\n",
      "Train Loss: 0.02485371194779873\n",
      "Train Loss: 0.024802999570965767\n",
      "Train Loss: 0.024752676486968994\n",
      "Train Loss: 0.02469978667795658\n",
      "Train Loss: 0.024645091965794563\n",
      "Train Loss: 0.024596473202109337\n",
      "Train Loss: 0.02454942837357521\n",
      "Train Loss: 0.024504082277417183\n",
      "Train Loss: 0.024452440440654755\n",
      "Train Loss: 0.024394726380705833\n",
      "Train Loss: 0.02434108778834343\n",
      "Train Loss: 0.024284742772579193\n",
      "Train Loss: 0.02422652579843998\n",
      "Train Loss: 0.024166593328118324\n",
      "Train Loss: 0.024109823629260063\n",
      "Train Loss: 0.024052593857049942\n",
      "Train Loss: 0.023989779874682426\n",
      "Train Loss: 0.023925798013806343\n",
      "Train Loss: 0.023865211755037308\n",
      "Train Loss: 0.023806912824511528\n",
      "Train Loss: 0.023744793608784676\n",
      "Train Loss: 0.023691494017839432\n",
      "Train Loss: 0.023634927347302437\n",
      "Train Loss: 0.023577900603413582\n",
      "Train Loss: 0.023521089926362038\n",
      "Train Loss: 0.02346305549144745\n",
      "Train Loss: 0.023405423387885094\n",
      "Train Loss: 0.02335035242140293\n",
      "Train Loss: 0.023295879364013672\n",
      "Train Loss: 0.023241372779011726\n",
      "Train Loss: 0.02318236604332924\n",
      "Train Loss: 0.023129599168896675\n",
      "Train Loss: 0.0230695903301239\n",
      "Train Loss: 0.02301240712404251\n",
      "Train Loss: 0.022957693785429\n",
      "Train Loss: 0.02289944514632225\n",
      "Train Loss: 0.02284066006541252\n",
      "Train Loss: 0.022779185324907303\n",
      "Train Loss: 0.022714346647262573\n",
      "Train Loss: 0.022650856524705887\n",
      "Train Loss: 0.022590462118387222\n",
      "Train Loss: 0.022534064948558807\n",
      "Train Loss: 0.022470789030194283\n",
      "Train Loss: 0.022405078634619713\n",
      "Train Loss: 0.022342782467603683\n",
      "Train Loss: 0.022296758368611336\n",
      "Train Loss: 0.02223760262131691\n",
      "Train Loss: 0.02217126451432705\n",
      "Train Loss: 0.022114336490631104\n",
      "Train Loss: 0.022053129971027374\n",
      "Train Loss: 0.021991485729813576\n",
      "Train Loss: 0.02193014696240425\n",
      "Train Loss: 0.021866818889975548\n",
      "Train Loss: 0.021803388372063637\n",
      "Train Loss: 0.021740686148405075\n",
      "Train Loss: 0.021685920655727386\n",
      "Train Loss: 0.02163114957511425\n",
      "Train Loss: 0.021575579419732094\n",
      "Train Loss: 0.021525930613279343\n",
      "Train Loss: 0.021469779312610626\n",
      "Train Loss: 0.02140790782868862\n",
      "Train Loss: 0.02134808897972107\n",
      "Train Loss: 0.02129269763827324\n",
      "Train Loss: 0.021235531195998192\n",
      "Train Loss: 0.021192152053117752\n",
      "Train Loss: 0.021178312599658966\n",
      "Train Loss: 0.021192364394664764\n",
      "Train Loss: 0.021216515451669693\n",
      "Train Loss: 0.021211061626672745\n",
      "Train Loss: 0.021197732537984848\n",
      "Train Loss: 0.021171804517507553\n",
      "Train Loss: 0.021136609837412834\n",
      "Train Loss: 0.021095948293805122\n",
      "Train Loss: 0.021060455590486526\n",
      "Train Loss: 0.021021710708737373\n",
      "Train Loss: 0.02097984030842781\n",
      "Train Loss: 0.020943928509950638\n",
      "Train Loss: 0.020918704569339752\n",
      "Train Loss: 0.02089681662619114\n",
      "Train Loss: 0.020880522206425667\n",
      "Train Loss: 0.02087506465613842\n",
      "Train Loss: 0.020862964913249016\n",
      "Train Loss: 0.020847326144576073\n",
      "Train Loss: 0.020823221653699875\n",
      "Train Loss: 0.02079158090054989\n",
      "Train Loss: 0.02076040208339691\n",
      "Train Loss: 0.020739607512950897\n",
      "Train Loss: 0.02072232961654663\n",
      "Train Loss: 0.02070080302655697\n",
      "Train Loss: 0.020679524168372154\n",
      "Train Loss: 0.02064756490290165\n",
      "Train Loss: 0.020607421174645424\n",
      "Train Loss: 0.02056274563074112\n",
      "Train Loss: 0.02051028423011303\n",
      "Train Loss: 0.020451709628105164\n",
      "Train Loss: 0.02039356157183647\n",
      "Train Loss: 0.02033217065036297\n",
      "Train Loss: 0.0202727559953928\n",
      "Train Loss: 0.020214593037962914\n",
      "Train Loss: 0.02016477845609188\n",
      "Train Loss: 0.020133912563323975\n",
      "Train Loss: 0.020129220560193062\n",
      "Train Loss: 0.020127831026911736\n",
      "Train Loss: 0.020107153803110123\n",
      "Train Loss: 0.02006792090833187\n",
      "Train Loss: 0.02001521922647953\n",
      "Train Loss: 0.01995680294930935\n",
      "Train Loss: 0.01989506371319294\n",
      "Train Loss: 0.019832123070955276\n",
      "Train Loss: 0.01976959779858589\n",
      "Train Loss: 0.019707931205630302\n",
      "Train Loss: 0.019648460671305656\n",
      "Train Loss: 0.019592072814702988\n",
      "Train Loss: 0.01955818384885788\n",
      "Train Loss: 0.019574781879782677\n",
      "Train Loss: 0.01958893984556198\n",
      "Train Loss: 0.019576191902160645\n",
      "Train Loss: 0.01953437738120556\n",
      "Train Loss: 0.019492873921990395\n",
      "Train Loss: 0.01945672743022442\n",
      "Train Loss: 0.019441870972514153\n",
      "Train Loss: 0.019445518031716347\n",
      "Train Loss: 0.01945093460381031\n",
      "Train Loss: 0.019430803135037422\n",
      "Train Loss: 0.01939859427511692\n",
      "Train Loss: 0.01935688965022564\n",
      "Train Loss: 0.019314397126436234\n",
      "Train Loss: 0.019278869032859802\n",
      "Train Loss: 0.019258828833699226\n",
      "Train Loss: 0.019259104505181313\n",
      "Train Loss: 0.019248753786087036\n",
      "Train Loss: 0.019215760752558708\n",
      "Train Loss: 0.019171450287103653\n",
      "Train Loss: 0.019125543534755707\n",
      "Train Loss: 0.019079776480793953\n",
      "Train Loss: 0.019039437174797058\n",
      "Train Loss: 0.019004900008440018\n",
      "Train Loss: 0.01898144744336605\n",
      "Train Loss: 0.01897667720913887\n",
      "Train Loss: 0.018966706469655037\n",
      "Train Loss: 0.018935488536953926\n",
      "Train Loss: 0.018893321976065636\n",
      "Train Loss: 0.018846120685338974\n",
      "Train Loss: 0.018795877695083618\n",
      "Train Loss: 0.018748560920357704\n",
      "Train Loss: 0.018710076808929443\n",
      "Train Loss: 0.01866897940635681\n",
      "Train Loss: 0.0186277125030756\n",
      "Train Loss: 0.018580622971057892\n",
      "Train Loss: 0.018541032448410988\n",
      "Train Loss: 0.018511714413762093\n",
      "Train Loss: 0.0185136329382658\n",
      "Train Loss: 0.018509289249777794\n",
      "Train Loss: 0.018486177548766136\n",
      "Train Loss: 0.018450351431965828\n",
      "Train Loss: 0.018408169969916344\n",
      "Train Loss: 0.01836561970412731\n",
      "Train Loss: 0.018321683630347252\n",
      "Train Loss: 0.018274256959557533\n",
      "Train Loss: 0.01823018305003643\n",
      "Train Loss: 0.018192099407315254\n",
      "Train Loss: 0.018178554251790047\n",
      "Train Loss: 0.018189504742622375\n",
      "Train Loss: 0.018177654594182968\n",
      "Train Loss: 0.018144236877560616\n",
      "Train Loss: 0.01810728758573532\n",
      "Train Loss: 0.01807171292603016\n",
      "Train Loss: 0.0180318895727396\n",
      "Train Loss: 0.017992733046412468\n",
      "Train Loss: 0.017957480624318123\n",
      "Train Loss: 0.01793987862765789\n",
      "Train Loss: 0.017932293936610222\n",
      "Train Loss: 0.017919490113854408\n",
      "Train Loss: 0.0178933534771204\n",
      "Train Loss: 0.017857277765870094\n"
     ]
    },
    {
     "name": "stderr",
     "output_type": "stream",
     "text": [
      "`Trainer.fit` stopped: `max_epochs=300` reached.\n"
     ]
    },
    {
     "name": "stdout",
     "output_type": "stream",
     "text": [
      "Train Loss: 0.017815107479691505\n"
     ]
    }
   ],
   "source": [
    "# train the model\n",
    "trainer = pl.Trainer(default_root_dir=\"model/\", max_epochs=300)\n",
    "\n",
    "# Train the model\n",
    "trainer.fit(model, train_loader, test_loader)"
   ]
  },
  {
   "cell_type": "code",
   "execution_count": 18,
   "metadata": {},
   "outputs": [
    {
     "name": "stderr",
     "output_type": "stream",
     "text": [
      "LOCAL_RANK: 0 - CUDA_VISIBLE_DEVICES: [0]\n",
      "c:\\Users\\dylan\\AppData\\Local\\Programs\\Python\\Python310\\lib\\site-packages\\pytorch_lightning\\trainer\\connectors\\data_connector.py:441: PossibleUserWarning:\n",
      "\n",
      "The 'test_dataloader' does not have many workers which may be a bottleneck. Consider increasing the value of the `num_workers` argument` to `num_workers=15` in the `DataLoader` to improve performance.\n",
      "\n"
     ]
    },
    {
     "data": {
      "application/vnd.jupyter.widget-view+json": {
       "model_id": "ba2448abd6e3412cb67f811d9668b449",
       "version_major": 2,
       "version_minor": 0
      },
      "text/plain": [
       "Testing: |          | 0/? [00:00<?, ?it/s]"
      ]
     },
     "metadata": {},
     "output_type": "display_data"
    },
    {
     "name": "stdout",
     "output_type": "stream",
     "text": [
      "Test Loss: 0.01959775574505329\n",
      "[{}]\n"
     ]
    }
   ],
   "source": [
    "result = trainer.test(model=model, dataloaders=val_loader)\n",
    "print(result)"
   ]
  },
  {
   "cell_type": "markdown",
   "metadata": {},
   "source": [
    "## Use model to predict btc Price"
   ]
  },
  {
   "cell_type": "code",
   "execution_count": 19,
   "metadata": {},
   "outputs": [
    {
     "name": "stdout",
     "output_type": "stream",
     "text": [
      "{'losses': tensor(0.0196)}\n"
     ]
    }
   ],
   "source": [
    "x = val_loader.dataset.X\n",
    "y = val_loader.dataset.y\n",
    "date = val_loader.dataset.date\n",
    "\n",
    "with torch.no_grad():\n",
    "    y_hat = model(x)\n",
    "\n",
    "print({\n",
    "    'losses':nn.L1Loss()(y, y_hat),\n",
    "})\n",
    "\n",
    "predict_out = pd.DataFrame({\n",
    "    'Date':[d.iloc[-1] for d in date],\n",
    "    'y hat':np.array(y_hat).reshape(-1),\n",
    "})\n",
    "\n",
    "df = val_loader.dataset.dataframe.iloc[206:]\n",
    "\n",
    "source_price = df['Open'].to_numpy()\n",
    "p = predict_out['y hat'].to_numpy()\n",
    "predict_out['Predict Close'] = (source_price * p) + source_price"
   ]
  },
  {
   "cell_type": "code",
   "execution_count": 20,
   "metadata": {},
   "outputs": [
    {
     "data": {
      "application/vnd.plotly.v1+json": {
       "config": {
        "plotlyServerURL": "https://plot.ly"
       },
       "data": [
        {
         "close": [
          29429.591796875,
          29397.71484375,
          29415.96484375,
          29282.9140625,
          29408.443359375,
          29170.34765625,
          28701.779296875,
          26664.55078125,
          26049.556640625,
          26096.205078125,
          26189.583984375,
          26124.140625,
          26031.65625,
          26431.640625,
          26162.373046875,
          26047.66796875,
          26008.462890625,
          26089.693359375,
          26106.150390625,
          27727.392578125,
          27297.265625,
          25931.47265625,
          25800.724609375,
          25868.798828125,
          25969.56640625,
          25812.416015625,
          25779.982421875,
          25753.236328125,
          26240.1953125,
          25905.654296875,
          25895.677734375,
          25832.2265625,
          25162.654296875,
          25833.34375,
          26228.32421875,
          26539.673828125,
          26608.693359375,
          26568.28125,
          26534.1875,
          26754.28125,
          27211.1171875,
          27132.0078125,
          26567.6328125,
          26579.568359375,
          26579.390625,
          26256.826171875,
          26298.48046875,
          26217.25,
          26352.716796875,
          27021.546875,
          26911.720703125,
          26967.916015625,
          27983.75,
          27530.78515625,
          27429.978515625,
          27799.39453125,
          27415.912109375,
          27946.59765625,
          27968.83984375,
          27935.08984375,
          27583.677734375,
          27391.01953125,
          26873.3203125,
          26756.798828125,
          26862.375,
          26861.70703125,
          27159.65234375,
          28519.466796875,
          28415.748046875,
          28328.341796875,
          28719.806640625,
          29682.94921875,
          29918.412109375,
          29993.896484375,
          33086.234375,
          33901.52734375,
          34502.8203125,
          34156.6484375,
          33909.80078125,
          34089.57421875,
          34538.48046875,
          34502.36328125,
          34667.78125,
          35437.25390625,
          34938.2421875,
          34732.32421875,
          35082.1953125,
          35049.35546875,
          35037.37109375,
          35443.5625,
          35655.27734375,
          36693.125,
          37313.96875,
          37138.05078125,
          37054.51953125,
          36502.35546875,
          35537.640625,
          37880.58203125,
          36154.76953125,
          36596.68359375,
          36585.703125,
          37386.546875,
          37476.95703125,
          35813.8125,
          37432.33984375,
          37289.62109375,
          37720.28125,
          37796.79296875,
          37479.12109375,
          37254.16796875,
          37831.0859375,
          37858.4921875,
          37712.74609375,
          38688.75,
          39476.33203125,
          39978.390625,
          41980.09765625,
          44080.6484375,
          43746.4453125,
          43292.6640625,
          44166.6015625,
          43725.984375,
          43779.69921875,
          41243.83203125,
          41450.22265625,
          42890.7421875,
          43023.97265625,
          41929.7578125,
          42240.1171875,
          41364.6640625,
          42623.5390625,
          42270.52734375,
          43652.25,
          43869.15234375,
          43997.90234375,
          43739.54296875,
          43016.1171875,
          43613.140625,
          42520.40234375,
          43442.85546875,
          42627.85546875,
          42099.40234375,
          42156.90234375,
          42265.1875,
          44167.33203125,
          44957.96875,
          42848.17578125,
          44179.921875,
          44162.69140625,
          43989.1953125,
          43943.09765625,
          46970.50390625,
          46139.73046875,
          46627.77734375,
          46368.5859375,
          42853.16796875,
          42883
         ],
         "high": [
          29688.564453125,
          29517.7734375,
          29465.11328125,
          29441.43359375,
          29660.25390625,
          29439.12109375,
          29221.9765625,
          28745.947265625,
          26808.1953125,
          26249.44921875,
          26260.681640625,
          26220.201171875,
          26135.5078125,
          26786.8984375,
          26554.91015625,
          26248.103515625,
          26107.384765625,
          26165.373046875,
          26198.578125,
          28089.337890625,
          27760.16015625,
          27456.078125,
          26125.869140625,
          25970.28515625,
          26087.1484375,
          26081.525390625,
          25858.375,
          25953.015625,
          26409.302734375,
          26414.005859375,
          25921.9765625,
          25978.130859375,
          25883.947265625,
          26451.939453125,
          26376.11328125,
          26774.623046875,
          26840.498046875,
          26754.76953125,
          26617.998046875,
          27414.734375,
          27488.763671875,
          27379.505859375,
          27152.939453125,
          26726.078125,
          26634.185546875,
          26716.05859375,
          26421.5078125,
          26389.884765625,
          26817.841796875,
          27259.5,
          27225.9375,
          27091.794921875,
          28047.23828125,
          28494.458984375,
          27667.19140625,
          27826.658203125,
          28091.861328125,
          28252.537109375,
          28028.091796875,
          28102.169921875,
          27989.470703125,
          27715.84765625,
          27474.115234375,
          26921.439453125,
          27092.697265625,
          26969,
          27289.169921875,
          29448.138671875,
          28618.751953125,
          28889.009765625,
          28892.474609375,
          30104.0859375,
          30287.482421875,
          30199.43359375,
          34370.4375,
          35150.43359375,
          35133.7578125,
          34832.91015625,
          34238.2109375,
          34399.390625,
          34743.26171875,
          34843.93359375,
          34719.25390625,
          35527.9296875,
          35919.84375,
          34942.47265625,
          35256.03125,
          35340.33984375,
          35286.02734375,
          35892.41796875,
          35994.41796875,
          37926.2578125,
          37493.80078125,
          37407.09375,
          37227.69140625,
          37405.1171875,
          36753.3515625,
          37964.89453125,
          37934.625,
          36704.484375,
          36839.28125,
          37509.35546875,
          37756.8203125,
          37631.140625,
          37856.98046875,
          37643.91796875,
          38415.33984375,
          37892.4296875,
          37820.30078125,
          37559.35546875,
          38368.48046875,
          38366.11328125,
          38141.75390625,
          38954.109375,
          39678.9375,
          40135.60546875,
          42371.75,
          44408.6640625,
          44265.76953125,
          44042.58984375,
          44705.515625,
          44361.2578125,
          44034.625,
          43808.375,
          42048.3046875,
          43429.78125,
          43390.859375,
          43087.82421875,
          42664.9453125,
          42359.49609375,
          42720.296875,
          43354.296875,
          44275.5859375,
          44240.66796875,
          44367.95703125,
          44015.69921875,
          43945.5234375,
          43765.09375,
          43603.17578125,
          43683.16015625,
          43804.78125,
          43124.32421875,
          42584.125,
          42860.9375,
          44175.4375,
          45899.70703125,
          45503.2421875,
          44770.0234375,
          44353.28515625,
          44227.6328125,
          44495.5703125,
          47218,
          47893.69921875,
          47647.22265625,
          48969.37109375,
          46498.13671875,
          43234.66015625
         ],
         "low": [
          29354.447265625,
          29253.517578125,
          29357.587890625,
          29265.806640625,
          29124.10546875,
          29088.853515625,
          28701.779296875,
          25409.111328125,
          25668.921875,
          25802.408203125,
          26004.314453125,
          25846.087890625,
          25520.728515625,
          25804.998046875,
          25914.92578125,
          25786.8125,
          25983.87890625,
          25965.09765625,
          25880.599609375,
          25912.62890625,
          27069.20703125,
          25752.9296875,
          25362.609375,
          25753.09375,
          25817.03125,
          25657.025390625,
          25589.98828125,
          25404.359375,
          25608.201171875,
          25677.48046875,
          25810.494140625,
          25640.26171875,
          24930.296875,
          25133.078125,
          25781.123046875,
          26171.451171875,
          26240.701171875,
          26473.890625,
          26445.07421875,
          26415.515625,
          26681.60546875,
          26864.08203125,
          26389.30078125,
          26495.533203125,
          26520.51953125,
          26221.05078125,
          26011.46875,
          26090.712890625,
          26111.46484375,
          26327.322265625,
          26721.763671875,
          26888.96875,
          26965.09375,
          27347.787109375,
          27216.001953125,
          27248.10546875,
          27375.6015625,
          27215.552734375,
          27870.423828125,
          27740.662109375,
          27302.5625,
          27301.654296875,
          26561.099609375,
          26558.3203125,
          26686.322265625,
          26814.5859375,
          26817.89453125,
          27130.47265625,
          28110.185546875,
          28174.251953125,
          28177.98828125,
          28601.669921875,
          29481.751953125,
          29720.3125,
          30097.828125,
          32880.76171875,
          33709.109375,
          33762.32421875,
          33416.88671875,
          33874.8046875,
          33947.56640625,
          34110.97265625,
          34083.30859375,
          34170.69140625,
          34401.57421875,
          34133.44140625,
          34616.69140625,
          34594.2421875,
          34765.36328125,
          34545.81640625,
          35147.80078125,
          35592.1015625,
          36362.75390625,
          36773.66796875,
          36779.1171875,
          36399.60546875,
          34948.5,
          35383.78125,
          35545.47265625,
          35901.234375,
          36233.3125,
          36414.59765625,
          36882.53125,
          35813.8125,
          35670.97265625,
          36923.86328125,
          37261.60546875,
          37617.41796875,
          37162.75,
          36750.12890625,
          36891.08984375,
          37612.6328125,
          37531.140625,
          37629.359375,
          38652.59375,
          39298.1640625,
          39978.62890625,
          41421.1484375,
          43478.08203125,
          42880.6484375,
          43125.296875,
          43627.59765625,
          43593.28515625,
          40234.578125,
          40667.5625,
          40676.8671875,
          41767.08984375,
          41692.96875,
          41723.11328125,
          41274.54296875,
          40530.2578125,
          41826.3359375,
          42223.81640625,
          43330.05078125,
          43441.96875,
          43351.35546875,
          42786.91796875,
          42765.76953125,
          41676.48828125,
          42167.58203125,
          42318.55078125,
          41424.0625,
          41556.2265625,
          41998.25390625,
          42214.9765625,
          44176.94921875,
          40813.53515625,
          42675.17578125,
          42784.71875,
          43475.15625,
          43662.23046875,
          43244.08203125,
          45244.71484375,
          44483.15234375,
          45678.64453125,
          41903.76953125,
          42464.4609375
         ],
         "name": "Actual Price",
         "open": [
          29563.97265625,
          29424.90234375,
          29399.787109375,
          29416.59375,
          29283.263671875,
          29408.048828125,
          29169.07421875,
          28699.802734375,
          26636.078125,
          26047.83203125,
          26096.861328125,
          26188.69140625,
          26130.748046875,
          26040.474609375,
          26431.51953125,
          26163.6796875,
          26047.234375,
          26008.2421875,
          26089.615234375,
          26102.486328125,
          27726.083984375,
          27301.9296875,
          25934.021484375,
          25800.91015625,
          25869.47265625,
          25968.169921875,
          25814.95703125,
          25783.931640625,
          25748.3125,
          26245.208984375,
          25905.42578125,
          25895.2109375,
          25831.71484375,
          25160.658203125,
          25837.5546875,
          26228.27734375,
          26533.818359375,
          26606.19921875,
          26567.927734375,
          26532.994140625,
          26760.8515625,
          27210.228515625,
          27129.83984375,
          26564.056640625,
          26578.556640625,
          26579.373046875,
          26253.775390625,
          26294.7578125,
          26209.498046875,
          26355.8125,
          27024.841796875,
          26911.689453125,
          26967.396484375,
          27976.798828125,
          27508.251953125,
          27429.07421875,
          27798.646484375,
          27412.123046875,
          27946.78125,
          27971.677734375,
          27934.47265625,
          27589.201171875,
          27392.076171875,
          26873.29296875,
          26752.87890625,
          26866.203125,
          26858.01171875,
          27162.62890625,
          28522.09765625,
          28413.53125,
          28332.416015625,
          28732.8125,
          29683.380859375,
          29918.654296875,
          30140.685546875,
          33077.3046875,
          33916.04296875,
          34504.2890625,
          34156.5,
          33907.72265625,
          34089.37109375,
          34531.7421875,
          34500.078125,
          34657.2734375,
          35441.578125,
          34942.47265625,
          34736.32421875,
          35090.01171875,
          35044.7890625,
          35047.79296875,
          35419.4765625,
          35633.6328125,
          36702.25,
          37310.0703125,
          37133.9921875,
          37070.3046875,
          36491.7890625,
          35548.11328125,
          37879.98046875,
          36164.82421875,
          36625.37109375,
          36585.765625,
          37374.07421875,
          37469.16015625,
          35756.5546875,
          37420.43359375,
          37296.31640625,
          37721.4140625,
          37796.828125,
          37454.19140625,
          37247.9921875,
          37826.10546875,
          37861.1171875,
          37718.0078125,
          38689.27734375,
          39472.20703125,
          39978.62890625,
          41986.265625,
          44080.0234375,
          43769.1328125,
          43293.13671875,
          44180.01953125,
          43728.3828125,
          43792.01953125,
          41238.734375,
          41468.46484375,
          42884.26171875,
          43028.25,
          41937.7421875,
          42236.109375,
          41348.203125,
          42641.51171875,
          42261.30078125,
          43648.125,
          43868.98828125,
          44012.19921875,
          43728.3671875,
          43010.57421875,
          43599.84765625,
          42518.46875,
          43468.19921875,
          42614.64453125,
          42091.75390625,
          42152.09765625,
          42280.234375,
          44187.140625,
          44961.6015625,
          42855.81640625,
          44192.98046875,
          44178.953125,
          43998.46484375,
          43948.70703125,
          46987.640625,
          46121.5390625,
          46656.07421875,
          46354.79296875,
          42799.4453125
         ],
         "type": "candlestick",
         "x": [
          "2023-08-10T00:00:00+00:00",
          "2023-08-11T00:00:00+00:00",
          "2023-08-12T00:00:00+00:00",
          "2023-08-13T00:00:00+00:00",
          "2023-08-14T00:00:00+00:00",
          "2023-08-15T00:00:00+00:00",
          "2023-08-16T00:00:00+00:00",
          "2023-08-17T00:00:00+00:00",
          "2023-08-18T00:00:00+00:00",
          "2023-08-19T00:00:00+00:00",
          "2023-08-20T00:00:00+00:00",
          "2023-08-21T00:00:00+00:00",
          "2023-08-22T00:00:00+00:00",
          "2023-08-23T00:00:00+00:00",
          "2023-08-24T00:00:00+00:00",
          "2023-08-25T00:00:00+00:00",
          "2023-08-26T00:00:00+00:00",
          "2023-08-27T00:00:00+00:00",
          "2023-08-28T00:00:00+00:00",
          "2023-08-29T00:00:00+00:00",
          "2023-08-30T00:00:00+00:00",
          "2023-08-31T00:00:00+00:00",
          "2023-09-01T00:00:00+00:00",
          "2023-09-02T00:00:00+00:00",
          "2023-09-03T00:00:00+00:00",
          "2023-09-04T00:00:00+00:00",
          "2023-09-05T00:00:00+00:00",
          "2023-09-06T00:00:00+00:00",
          "2023-09-07T00:00:00+00:00",
          "2023-09-08T00:00:00+00:00",
          "2023-09-09T00:00:00+00:00",
          "2023-09-10T00:00:00+00:00",
          "2023-09-11T00:00:00+00:00",
          "2023-09-12T00:00:00+00:00",
          "2023-09-13T00:00:00+00:00",
          "2023-09-14T00:00:00+00:00",
          "2023-09-15T00:00:00+00:00",
          "2023-09-16T00:00:00+00:00",
          "2023-09-17T00:00:00+00:00",
          "2023-09-18T00:00:00+00:00",
          "2023-09-19T00:00:00+00:00",
          "2023-09-20T00:00:00+00:00",
          "2023-09-21T00:00:00+00:00",
          "2023-09-22T00:00:00+00:00",
          "2023-09-23T00:00:00+00:00",
          "2023-09-24T00:00:00+00:00",
          "2023-09-25T00:00:00+00:00",
          "2023-09-26T00:00:00+00:00",
          "2023-09-27T00:00:00+00:00",
          "2023-09-28T00:00:00+00:00",
          "2023-09-29T00:00:00+00:00",
          "2023-09-30T00:00:00+00:00",
          "2023-10-01T00:00:00+00:00",
          "2023-10-02T00:00:00+00:00",
          "2023-10-03T00:00:00+00:00",
          "2023-10-04T00:00:00+00:00",
          "2023-10-05T00:00:00+00:00",
          "2023-10-06T00:00:00+00:00",
          "2023-10-07T00:00:00+00:00",
          "2023-10-08T00:00:00+00:00",
          "2023-10-09T00:00:00+00:00",
          "2023-10-10T00:00:00+00:00",
          "2023-10-11T00:00:00+00:00",
          "2023-10-12T00:00:00+00:00",
          "2023-10-13T00:00:00+00:00",
          "2023-10-14T00:00:00+00:00",
          "2023-10-15T00:00:00+00:00",
          "2023-10-16T00:00:00+00:00",
          "2023-10-17T00:00:00+00:00",
          "2023-10-18T00:00:00+00:00",
          "2023-10-19T00:00:00+00:00",
          "2023-10-20T00:00:00+00:00",
          "2023-10-21T00:00:00+00:00",
          "2023-10-22T00:00:00+00:00",
          "2023-10-23T00:00:00+00:00",
          "2023-10-24T00:00:00+00:00",
          "2023-10-25T00:00:00+00:00",
          "2023-10-26T00:00:00+00:00",
          "2023-10-27T00:00:00+00:00",
          "2023-10-28T00:00:00+00:00",
          "2023-10-29T00:00:00+00:00",
          "2023-10-30T00:00:00+00:00",
          "2023-10-31T00:00:00+00:00",
          "2023-11-01T00:00:00+00:00",
          "2023-11-02T00:00:00+00:00",
          "2023-11-03T00:00:00+00:00",
          "2023-11-04T00:00:00+00:00",
          "2023-11-05T00:00:00+00:00",
          "2023-11-06T00:00:00+00:00",
          "2023-11-07T00:00:00+00:00",
          "2023-11-08T00:00:00+00:00",
          "2023-11-09T00:00:00+00:00",
          "2023-11-10T00:00:00+00:00",
          "2023-11-11T00:00:00+00:00",
          "2023-11-12T00:00:00+00:00",
          "2023-11-13T00:00:00+00:00",
          "2023-11-14T00:00:00+00:00",
          "2023-11-15T00:00:00+00:00",
          "2023-11-16T00:00:00+00:00",
          "2023-11-17T00:00:00+00:00",
          "2023-11-18T00:00:00+00:00",
          "2023-11-19T00:00:00+00:00",
          "2023-11-20T00:00:00+00:00",
          "2023-11-21T00:00:00+00:00",
          "2023-11-22T00:00:00+00:00",
          "2023-11-23T00:00:00+00:00",
          "2023-11-24T00:00:00+00:00",
          "2023-11-25T00:00:00+00:00",
          "2023-11-26T00:00:00+00:00",
          "2023-11-27T00:00:00+00:00",
          "2023-11-28T00:00:00+00:00",
          "2023-11-29T00:00:00+00:00",
          "2023-11-30T00:00:00+00:00",
          "2023-12-01T00:00:00+00:00",
          "2023-12-02T00:00:00+00:00",
          "2023-12-03T00:00:00+00:00",
          "2023-12-04T00:00:00+00:00",
          "2023-12-05T00:00:00+00:00",
          "2023-12-06T00:00:00+00:00",
          "2023-12-07T00:00:00+00:00",
          "2023-12-08T00:00:00+00:00",
          "2023-12-09T00:00:00+00:00",
          "2023-12-10T00:00:00+00:00",
          "2023-12-11T00:00:00+00:00",
          "2023-12-12T00:00:00+00:00",
          "2023-12-13T00:00:00+00:00",
          "2023-12-14T00:00:00+00:00",
          "2023-12-15T00:00:00+00:00",
          "2023-12-16T00:00:00+00:00",
          "2023-12-17T00:00:00+00:00",
          "2023-12-18T00:00:00+00:00",
          "2023-12-19T00:00:00+00:00",
          "2023-12-20T00:00:00+00:00",
          "2023-12-21T00:00:00+00:00",
          "2023-12-22T00:00:00+00:00",
          "2023-12-23T00:00:00+00:00",
          "2023-12-24T00:00:00+00:00",
          "2023-12-25T00:00:00+00:00",
          "2023-12-26T00:00:00+00:00",
          "2023-12-27T00:00:00+00:00",
          "2023-12-28T00:00:00+00:00",
          "2023-12-29T00:00:00+00:00",
          "2023-12-30T00:00:00+00:00",
          "2023-12-31T00:00:00+00:00",
          "2024-01-01T00:00:00+00:00",
          "2024-01-02T00:00:00+00:00",
          "2024-01-03T00:00:00+00:00",
          "2024-01-04T00:00:00+00:00",
          "2024-01-05T00:00:00+00:00",
          "2024-01-06T00:00:00+00:00",
          "2024-01-07T00:00:00+00:00",
          "2024-01-08T00:00:00+00:00",
          "2024-01-09T00:00:00+00:00",
          "2024-01-10T00:00:00+00:00",
          "2024-01-11T00:00:00+00:00",
          "2024-01-12T00:00:00+00:00",
          "2024-01-13T00:00:00+00:00"
         ]
        },
        {
         "line": {
          "color": "blue"
         },
         "name": "Actual Close",
         "type": "scatter",
         "x": [
          "2023-08-10T00:00:00+00:00",
          "2023-08-11T00:00:00+00:00",
          "2023-08-12T00:00:00+00:00",
          "2023-08-13T00:00:00+00:00",
          "2023-08-14T00:00:00+00:00",
          "2023-08-15T00:00:00+00:00",
          "2023-08-16T00:00:00+00:00",
          "2023-08-17T00:00:00+00:00",
          "2023-08-18T00:00:00+00:00",
          "2023-08-19T00:00:00+00:00",
          "2023-08-20T00:00:00+00:00",
          "2023-08-21T00:00:00+00:00",
          "2023-08-22T00:00:00+00:00",
          "2023-08-23T00:00:00+00:00",
          "2023-08-24T00:00:00+00:00",
          "2023-08-25T00:00:00+00:00",
          "2023-08-26T00:00:00+00:00",
          "2023-08-27T00:00:00+00:00",
          "2023-08-28T00:00:00+00:00",
          "2023-08-29T00:00:00+00:00",
          "2023-08-30T00:00:00+00:00",
          "2023-08-31T00:00:00+00:00",
          "2023-09-01T00:00:00+00:00",
          "2023-09-02T00:00:00+00:00",
          "2023-09-03T00:00:00+00:00",
          "2023-09-04T00:00:00+00:00",
          "2023-09-05T00:00:00+00:00",
          "2023-09-06T00:00:00+00:00",
          "2023-09-07T00:00:00+00:00",
          "2023-09-08T00:00:00+00:00",
          "2023-09-09T00:00:00+00:00",
          "2023-09-10T00:00:00+00:00",
          "2023-09-11T00:00:00+00:00",
          "2023-09-12T00:00:00+00:00",
          "2023-09-13T00:00:00+00:00",
          "2023-09-14T00:00:00+00:00",
          "2023-09-15T00:00:00+00:00",
          "2023-09-16T00:00:00+00:00",
          "2023-09-17T00:00:00+00:00",
          "2023-09-18T00:00:00+00:00",
          "2023-09-19T00:00:00+00:00",
          "2023-09-20T00:00:00+00:00",
          "2023-09-21T00:00:00+00:00",
          "2023-09-22T00:00:00+00:00",
          "2023-09-23T00:00:00+00:00",
          "2023-09-24T00:00:00+00:00",
          "2023-09-25T00:00:00+00:00",
          "2023-09-26T00:00:00+00:00",
          "2023-09-27T00:00:00+00:00",
          "2023-09-28T00:00:00+00:00",
          "2023-09-29T00:00:00+00:00",
          "2023-09-30T00:00:00+00:00",
          "2023-10-01T00:00:00+00:00",
          "2023-10-02T00:00:00+00:00",
          "2023-10-03T00:00:00+00:00",
          "2023-10-04T00:00:00+00:00",
          "2023-10-05T00:00:00+00:00",
          "2023-10-06T00:00:00+00:00",
          "2023-10-07T00:00:00+00:00",
          "2023-10-08T00:00:00+00:00",
          "2023-10-09T00:00:00+00:00",
          "2023-10-10T00:00:00+00:00",
          "2023-10-11T00:00:00+00:00",
          "2023-10-12T00:00:00+00:00",
          "2023-10-13T00:00:00+00:00",
          "2023-10-14T00:00:00+00:00",
          "2023-10-15T00:00:00+00:00",
          "2023-10-16T00:00:00+00:00",
          "2023-10-17T00:00:00+00:00",
          "2023-10-18T00:00:00+00:00",
          "2023-10-19T00:00:00+00:00",
          "2023-10-20T00:00:00+00:00",
          "2023-10-21T00:00:00+00:00",
          "2023-10-22T00:00:00+00:00",
          "2023-10-23T00:00:00+00:00",
          "2023-10-24T00:00:00+00:00",
          "2023-10-25T00:00:00+00:00",
          "2023-10-26T00:00:00+00:00",
          "2023-10-27T00:00:00+00:00",
          "2023-10-28T00:00:00+00:00",
          "2023-10-29T00:00:00+00:00",
          "2023-10-30T00:00:00+00:00",
          "2023-10-31T00:00:00+00:00",
          "2023-11-01T00:00:00+00:00",
          "2023-11-02T00:00:00+00:00",
          "2023-11-03T00:00:00+00:00",
          "2023-11-04T00:00:00+00:00",
          "2023-11-05T00:00:00+00:00",
          "2023-11-06T00:00:00+00:00",
          "2023-11-07T00:00:00+00:00",
          "2023-11-08T00:00:00+00:00",
          "2023-11-09T00:00:00+00:00",
          "2023-11-10T00:00:00+00:00",
          "2023-11-11T00:00:00+00:00",
          "2023-11-12T00:00:00+00:00",
          "2023-11-13T00:00:00+00:00",
          "2023-11-14T00:00:00+00:00",
          "2023-11-15T00:00:00+00:00",
          "2023-11-16T00:00:00+00:00",
          "2023-11-17T00:00:00+00:00",
          "2023-11-18T00:00:00+00:00",
          "2023-11-19T00:00:00+00:00",
          "2023-11-20T00:00:00+00:00",
          "2023-11-21T00:00:00+00:00",
          "2023-11-22T00:00:00+00:00",
          "2023-11-23T00:00:00+00:00",
          "2023-11-24T00:00:00+00:00",
          "2023-11-25T00:00:00+00:00",
          "2023-11-26T00:00:00+00:00",
          "2023-11-27T00:00:00+00:00",
          "2023-11-28T00:00:00+00:00",
          "2023-11-29T00:00:00+00:00",
          "2023-11-30T00:00:00+00:00",
          "2023-12-01T00:00:00+00:00",
          "2023-12-02T00:00:00+00:00",
          "2023-12-03T00:00:00+00:00",
          "2023-12-04T00:00:00+00:00",
          "2023-12-05T00:00:00+00:00",
          "2023-12-06T00:00:00+00:00",
          "2023-12-07T00:00:00+00:00",
          "2023-12-08T00:00:00+00:00",
          "2023-12-09T00:00:00+00:00",
          "2023-12-10T00:00:00+00:00",
          "2023-12-11T00:00:00+00:00",
          "2023-12-12T00:00:00+00:00",
          "2023-12-13T00:00:00+00:00",
          "2023-12-14T00:00:00+00:00",
          "2023-12-15T00:00:00+00:00",
          "2023-12-16T00:00:00+00:00",
          "2023-12-17T00:00:00+00:00",
          "2023-12-18T00:00:00+00:00",
          "2023-12-19T00:00:00+00:00",
          "2023-12-20T00:00:00+00:00",
          "2023-12-21T00:00:00+00:00",
          "2023-12-22T00:00:00+00:00",
          "2023-12-23T00:00:00+00:00",
          "2023-12-24T00:00:00+00:00",
          "2023-12-25T00:00:00+00:00",
          "2023-12-26T00:00:00+00:00",
          "2023-12-27T00:00:00+00:00",
          "2023-12-28T00:00:00+00:00",
          "2023-12-29T00:00:00+00:00",
          "2023-12-30T00:00:00+00:00",
          "2023-12-31T00:00:00+00:00",
          "2024-01-01T00:00:00+00:00",
          "2024-01-02T00:00:00+00:00",
          "2024-01-03T00:00:00+00:00",
          "2024-01-04T00:00:00+00:00",
          "2024-01-05T00:00:00+00:00",
          "2024-01-06T00:00:00+00:00",
          "2024-01-07T00:00:00+00:00",
          "2024-01-08T00:00:00+00:00",
          "2024-01-09T00:00:00+00:00",
          "2024-01-10T00:00:00+00:00",
          "2024-01-11T00:00:00+00:00",
          "2024-01-12T00:00:00+00:00",
          "2024-01-13T00:00:00+00:00"
         ],
         "y": [
          29429.591796875,
          29397.71484375,
          29415.96484375,
          29282.9140625,
          29408.443359375,
          29170.34765625,
          28701.779296875,
          26664.55078125,
          26049.556640625,
          26096.205078125,
          26189.583984375,
          26124.140625,
          26031.65625,
          26431.640625,
          26162.373046875,
          26047.66796875,
          26008.462890625,
          26089.693359375,
          26106.150390625,
          27727.392578125,
          27297.265625,
          25931.47265625,
          25800.724609375,
          25868.798828125,
          25969.56640625,
          25812.416015625,
          25779.982421875,
          25753.236328125,
          26240.1953125,
          25905.654296875,
          25895.677734375,
          25832.2265625,
          25162.654296875,
          25833.34375,
          26228.32421875,
          26539.673828125,
          26608.693359375,
          26568.28125,
          26534.1875,
          26754.28125,
          27211.1171875,
          27132.0078125,
          26567.6328125,
          26579.568359375,
          26579.390625,
          26256.826171875,
          26298.48046875,
          26217.25,
          26352.716796875,
          27021.546875,
          26911.720703125,
          26967.916015625,
          27983.75,
          27530.78515625,
          27429.978515625,
          27799.39453125,
          27415.912109375,
          27946.59765625,
          27968.83984375,
          27935.08984375,
          27583.677734375,
          27391.01953125,
          26873.3203125,
          26756.798828125,
          26862.375,
          26861.70703125,
          27159.65234375,
          28519.466796875,
          28415.748046875,
          28328.341796875,
          28719.806640625,
          29682.94921875,
          29918.412109375,
          29993.896484375,
          33086.234375,
          33901.52734375,
          34502.8203125,
          34156.6484375,
          33909.80078125,
          34089.57421875,
          34538.48046875,
          34502.36328125,
          34667.78125,
          35437.25390625,
          34938.2421875,
          34732.32421875,
          35082.1953125,
          35049.35546875,
          35037.37109375,
          35443.5625,
          35655.27734375,
          36693.125,
          37313.96875,
          37138.05078125,
          37054.51953125,
          36502.35546875,
          35537.640625,
          37880.58203125,
          36154.76953125,
          36596.68359375,
          36585.703125,
          37386.546875,
          37476.95703125,
          35813.8125,
          37432.33984375,
          37289.62109375,
          37720.28125,
          37796.79296875,
          37479.12109375,
          37254.16796875,
          37831.0859375,
          37858.4921875,
          37712.74609375,
          38688.75,
          39476.33203125,
          39978.390625,
          41980.09765625,
          44080.6484375,
          43746.4453125,
          43292.6640625,
          44166.6015625,
          43725.984375,
          43779.69921875,
          41243.83203125,
          41450.22265625,
          42890.7421875,
          43023.97265625,
          41929.7578125,
          42240.1171875,
          41364.6640625,
          42623.5390625,
          42270.52734375,
          43652.25,
          43869.15234375,
          43997.90234375,
          43739.54296875,
          43016.1171875,
          43613.140625,
          42520.40234375,
          43442.85546875,
          42627.85546875,
          42099.40234375,
          42156.90234375,
          42265.1875,
          44167.33203125,
          44957.96875,
          42848.17578125,
          44179.921875,
          44162.69140625,
          43989.1953125,
          43943.09765625,
          46970.50390625,
          46139.73046875,
          46627.77734375,
          46368.5859375,
          42853.16796875,
          42883
         ]
        },
        {
         "line": {
          "color": "red"
         },
         "name": "Pred. Close",
         "type": "scatter",
         "x": [
          "2023-07-26T00:00:00+00:00",
          "2023-07-27T00:00:00+00:00",
          "2023-07-28T00:00:00+00:00",
          "2023-07-29T00:00:00+00:00",
          "2023-07-30T00:00:00+00:00",
          "2023-07-31T00:00:00+00:00",
          "2023-08-01T00:00:00+00:00",
          "2023-08-02T00:00:00+00:00",
          "2023-08-03T00:00:00+00:00",
          "2023-08-04T00:00:00+00:00",
          "2023-08-05T00:00:00+00:00",
          "2023-08-06T00:00:00+00:00",
          "2023-08-07T00:00:00+00:00",
          "2023-08-08T00:00:00+00:00",
          "2023-08-09T00:00:00+00:00",
          "2023-08-10T00:00:00+00:00",
          "2023-08-11T00:00:00+00:00",
          "2023-08-12T00:00:00+00:00",
          "2023-08-13T00:00:00+00:00",
          "2023-08-14T00:00:00+00:00",
          "2023-08-15T00:00:00+00:00",
          "2023-08-16T00:00:00+00:00",
          "2023-08-17T00:00:00+00:00",
          "2023-08-18T00:00:00+00:00",
          "2023-08-19T00:00:00+00:00",
          "2023-08-20T00:00:00+00:00",
          "2023-08-21T00:00:00+00:00",
          "2023-08-22T00:00:00+00:00",
          "2023-08-23T00:00:00+00:00",
          "2023-08-24T00:00:00+00:00",
          "2023-08-25T00:00:00+00:00",
          "2023-08-26T00:00:00+00:00",
          "2023-08-27T00:00:00+00:00",
          "2023-08-28T00:00:00+00:00",
          "2023-08-29T00:00:00+00:00",
          "2023-08-30T00:00:00+00:00",
          "2023-08-31T00:00:00+00:00",
          "2023-09-01T00:00:00+00:00",
          "2023-09-02T00:00:00+00:00",
          "2023-09-03T00:00:00+00:00",
          "2023-09-04T00:00:00+00:00",
          "2023-09-05T00:00:00+00:00",
          "2023-09-06T00:00:00+00:00",
          "2023-09-07T00:00:00+00:00",
          "2023-09-08T00:00:00+00:00",
          "2023-09-09T00:00:00+00:00",
          "2023-09-10T00:00:00+00:00",
          "2023-09-11T00:00:00+00:00",
          "2023-09-12T00:00:00+00:00",
          "2023-09-13T00:00:00+00:00",
          "2023-09-14T00:00:00+00:00",
          "2023-09-15T00:00:00+00:00",
          "2023-09-16T00:00:00+00:00",
          "2023-09-17T00:00:00+00:00",
          "2023-09-18T00:00:00+00:00",
          "2023-09-19T00:00:00+00:00",
          "2023-09-20T00:00:00+00:00",
          "2023-09-21T00:00:00+00:00",
          "2023-09-22T00:00:00+00:00",
          "2023-09-23T00:00:00+00:00",
          "2023-09-24T00:00:00+00:00",
          "2023-09-25T00:00:00+00:00",
          "2023-09-26T00:00:00+00:00",
          "2023-09-27T00:00:00+00:00",
          "2023-09-28T00:00:00+00:00",
          "2023-09-29T00:00:00+00:00",
          "2023-09-30T00:00:00+00:00",
          "2023-10-01T00:00:00+00:00",
          "2023-10-02T00:00:00+00:00",
          "2023-10-03T00:00:00+00:00",
          "2023-10-04T00:00:00+00:00",
          "2023-10-05T00:00:00+00:00",
          "2023-10-06T00:00:00+00:00",
          "2023-10-07T00:00:00+00:00",
          "2023-10-08T00:00:00+00:00",
          "2023-10-09T00:00:00+00:00",
          "2023-10-10T00:00:00+00:00",
          "2023-10-11T00:00:00+00:00",
          "2023-10-12T00:00:00+00:00",
          "2023-10-13T00:00:00+00:00",
          "2023-10-14T00:00:00+00:00",
          "2023-10-15T00:00:00+00:00",
          "2023-10-16T00:00:00+00:00",
          "2023-10-17T00:00:00+00:00",
          "2023-10-18T00:00:00+00:00",
          "2023-10-19T00:00:00+00:00",
          "2023-10-20T00:00:00+00:00",
          "2023-10-21T00:00:00+00:00",
          "2023-10-22T00:00:00+00:00",
          "2023-10-23T00:00:00+00:00",
          "2023-10-24T00:00:00+00:00",
          "2023-10-25T00:00:00+00:00",
          "2023-10-26T00:00:00+00:00",
          "2023-10-27T00:00:00+00:00",
          "2023-10-28T00:00:00+00:00",
          "2023-10-29T00:00:00+00:00",
          "2023-10-30T00:00:00+00:00",
          "2023-10-31T00:00:00+00:00",
          "2023-11-01T00:00:00+00:00",
          "2023-11-02T00:00:00+00:00",
          "2023-11-03T00:00:00+00:00",
          "2023-11-04T00:00:00+00:00",
          "2023-11-05T00:00:00+00:00",
          "2023-11-06T00:00:00+00:00",
          "2023-11-07T00:00:00+00:00",
          "2023-11-08T00:00:00+00:00",
          "2023-11-09T00:00:00+00:00",
          "2023-11-10T00:00:00+00:00",
          "2023-11-11T00:00:00+00:00",
          "2023-11-12T00:00:00+00:00",
          "2023-11-13T00:00:00+00:00",
          "2023-11-14T00:00:00+00:00",
          "2023-11-15T00:00:00+00:00",
          "2023-11-16T00:00:00+00:00",
          "2023-11-17T00:00:00+00:00",
          "2023-11-18T00:00:00+00:00",
          "2023-11-19T00:00:00+00:00",
          "2023-11-20T00:00:00+00:00",
          "2023-11-21T00:00:00+00:00",
          "2023-11-22T00:00:00+00:00",
          "2023-11-23T00:00:00+00:00",
          "2023-11-24T00:00:00+00:00",
          "2023-11-25T00:00:00+00:00",
          "2023-11-26T00:00:00+00:00",
          "2023-11-27T00:00:00+00:00",
          "2023-11-28T00:00:00+00:00",
          "2023-11-29T00:00:00+00:00",
          "2023-11-30T00:00:00+00:00",
          "2023-12-01T00:00:00+00:00",
          "2023-12-02T00:00:00+00:00",
          "2023-12-03T00:00:00+00:00",
          "2023-12-04T00:00:00+00:00",
          "2023-12-05T00:00:00+00:00",
          "2023-12-06T00:00:00+00:00",
          "2023-12-07T00:00:00+00:00",
          "2023-12-08T00:00:00+00:00",
          "2023-12-09T00:00:00+00:00",
          "2023-12-10T00:00:00+00:00",
          "2023-12-11T00:00:00+00:00",
          "2023-12-12T00:00:00+00:00",
          "2023-12-13T00:00:00+00:00",
          "2023-12-14T00:00:00+00:00",
          "2023-12-15T00:00:00+00:00",
          "2023-12-16T00:00:00+00:00",
          "2023-12-17T00:00:00+00:00",
          "2023-12-18T00:00:00+00:00",
          "2023-12-19T00:00:00+00:00",
          "2023-12-20T00:00:00+00:00",
          "2023-12-21T00:00:00+00:00",
          "2023-12-22T00:00:00+00:00",
          "2023-12-23T00:00:00+00:00",
          "2023-12-24T00:00:00+00:00",
          "2023-12-25T00:00:00+00:00",
          "2023-12-26T00:00:00+00:00",
          "2023-12-27T00:00:00+00:00",
          "2023-12-28T00:00:00+00:00",
          "2023-12-29T00:00:00+00:00",
          "2023-12-30T00:00:00+00:00",
          "2023-12-31T00:00:00+00:00",
          "2024-01-01T00:00:00+00:00",
          "2024-01-02T00:00:00+00:00",
          "2024-01-03T00:00:00+00:00",
          "2024-01-04T00:00:00+00:00",
          "2024-01-05T00:00:00+00:00",
          "2024-01-06T00:00:00+00:00",
          "2024-01-07T00:00:00+00:00",
          "2024-01-08T00:00:00+00:00",
          "2024-01-09T00:00:00+00:00",
          "2024-01-10T00:00:00+00:00",
          "2024-01-11T00:00:00+00:00",
          "2024-01-12T00:00:00+00:00",
          "2024-01-13T00:00:00+00:00"
         ],
         "y": [
          29179.806314462887,
          29391.894116094423,
          29218.29595667284,
          29451.933924925142,
          29245.263423638986,
          29118.66729388984,
          29282.517736730224,
          29768.43002502594,
          29344.461105375667,
          29473.286021027146,
          29014.100927922493,
          29076.254817224253,
          29006.071299886244,
          29220.99802070392,
          30024.68047776076,
          29767.764997328457,
          29930.828608570664,
          29513.474234277885,
          29360.90243336941,
          29567.659821588382,
          29497.985789868995,
          29187.483433667712,
          28894.38114059756,
          27050.300908320205,
          25926.34866317948,
          26144.102207985492,
          24135.61777991592,
          26340.078701190592,
          25728.181472876215,
          26488.513724625056,
          26262.822568277632,
          26074.383125915345,
          25819.657355120053,
          26036.919921218654,
          26311.24044625552,
          27800.030265182388,
          28198.898185528087,
          25877.40738026143,
          24419.543393490472,
          26021.603082333786,
          25957.27567469429,
          26310.100212208694,
          25907.05837381388,
          25444.219772274024,
          26624.072478384245,
          26511.907889336813,
          26052.378218338676,
          25726.74411961581,
          25042.72828670114,
          26113.13507894241,
          26718.101254969384,
          26787.403281890074,
          26112.108809603065,
          26500.615128381218,
          26879.0146454072,
          26994.577822102263,
          27595.877592483514,
          27333.526509407195,
          26383.686188499105,
          26752.981173116288,
          26815.469829492144,
          26479.752396689364,
          26510.431176582875,
          26085.647907300026,
          26475.88433508959,
          27290.495736779892,
          27052.468448617445,
          26559.173724179604,
          27870.885495472685,
          27764.720787633178,
          28000.228094096114,
          28192.009582795086,
          27520.958722361087,
          27905.69653997135,
          28438.86637638447,
          28269.072301288907,
          27723.463182085972,
          27559.082065791226,
          26835.389061051676,
          26783.854036409393,
          27209.441493961785,
          27007.72744533461,
          27200.495556230457,
          28919.122647375058,
          28796.88416086277,
          28120.395062411146,
          28786.953679215367,
          30132.53890636983,
          30257.323670806236,
          30225.224813486144,
          32199.504552067156,
          33904.849515396265,
          33464.38366627392,
          35963.31527660787,
          33181.40394860104,
          34478.830908864,
          34837.23692349934,
          34633.654528407096,
          34890.90126038329,
          35626.09594438728,
          34882.88379100949,
          34840.80539129458,
          35276.5720665181,
          35190.46954035258,
          35370.56505249173,
          35758.31486861515,
          35736.434336095,
          36600.51819372538,
          37628.09390513914,
          36778.88041031,
          37094.23518846073,
          36357.478544537706,
          35431.04650192255,
          38223.598658742776,
          36379.654492625494,
          36898.975494907194,
          36545.37025379569,
          37177.54215804371,
          37846.96830000743,
          35772.19363300632,
          37127.64510963575,
          37033.21350879782,
          37420.02576682769,
          38368.44667836669,
          36231.62775764901,
          37324.95303128257,
          38054.27702212199,
          37602.36232834539,
          37668.69302548583,
          38820.36263998441,
          38852.783377856795,
          39209.25893614845,
          42125.28403995837,
          43923.821364945106,
          43481.12990904717,
          43791.86333942264,
          43900.16066609477,
          43574.4748986319,
          44456.68968912892,
          40742.472557829635,
          41854.003659778355,
          43338.013772046135,
          43605.73330457462,
          42902.56772716252,
          42339.33558600567,
          40402.38162526279,
          42367.43888550131,
          42475.20445639515,
          43545.86352417857,
          44206.664744606234,
          43187.51241449892,
          43921.301470609316,
          42704.28093967527,
          43682.651280035694,
          42710.87880908945,
          43939.12183078119,
          42559.636097351264,
          41941.89685030083,
          42171.05787303248,
          42430.42537535462,
          42331.0458454059,
          45214.14456285045,
          42433.65440384783,
          44156.9698608137,
          43893.01416839145,
          44346.47320277917,
          44227.83401544536,
          44572.10138244589,
          46162.07896910547,
          45803.0923152644,
          47935.034993804205,
          42097.76463780862
         ]
        }
       ],
       "layout": {
        "template": {
         "data": {
          "bar": [
           {
            "error_x": {
             "color": "#2a3f5f"
            },
            "error_y": {
             "color": "#2a3f5f"
            },
            "marker": {
             "line": {
              "color": "#E5ECF6",
              "width": 0.5
             },
             "pattern": {
              "fillmode": "overlay",
              "size": 10,
              "solidity": 0.2
             }
            },
            "type": "bar"
           }
          ],
          "barpolar": [
           {
            "marker": {
             "line": {
              "color": "#E5ECF6",
              "width": 0.5
             },
             "pattern": {
              "fillmode": "overlay",
              "size": 10,
              "solidity": 0.2
             }
            },
            "type": "barpolar"
           }
          ],
          "carpet": [
           {
            "aaxis": {
             "endlinecolor": "#2a3f5f",
             "gridcolor": "white",
             "linecolor": "white",
             "minorgridcolor": "white",
             "startlinecolor": "#2a3f5f"
            },
            "baxis": {
             "endlinecolor": "#2a3f5f",
             "gridcolor": "white",
             "linecolor": "white",
             "minorgridcolor": "white",
             "startlinecolor": "#2a3f5f"
            },
            "type": "carpet"
           }
          ],
          "choropleth": [
           {
            "colorbar": {
             "outlinewidth": 0,
             "ticks": ""
            },
            "type": "choropleth"
           }
          ],
          "contour": [
           {
            "colorbar": {
             "outlinewidth": 0,
             "ticks": ""
            },
            "colorscale": [
             [
              0,
              "#0d0887"
             ],
             [
              0.1111111111111111,
              "#46039f"
             ],
             [
              0.2222222222222222,
              "#7201a8"
             ],
             [
              0.3333333333333333,
              "#9c179e"
             ],
             [
              0.4444444444444444,
              "#bd3786"
             ],
             [
              0.5555555555555556,
              "#d8576b"
             ],
             [
              0.6666666666666666,
              "#ed7953"
             ],
             [
              0.7777777777777778,
              "#fb9f3a"
             ],
             [
              0.8888888888888888,
              "#fdca26"
             ],
             [
              1,
              "#f0f921"
             ]
            ],
            "type": "contour"
           }
          ],
          "contourcarpet": [
           {
            "colorbar": {
             "outlinewidth": 0,
             "ticks": ""
            },
            "type": "contourcarpet"
           }
          ],
          "heatmap": [
           {
            "colorbar": {
             "outlinewidth": 0,
             "ticks": ""
            },
            "colorscale": [
             [
              0,
              "#0d0887"
             ],
             [
              0.1111111111111111,
              "#46039f"
             ],
             [
              0.2222222222222222,
              "#7201a8"
             ],
             [
              0.3333333333333333,
              "#9c179e"
             ],
             [
              0.4444444444444444,
              "#bd3786"
             ],
             [
              0.5555555555555556,
              "#d8576b"
             ],
             [
              0.6666666666666666,
              "#ed7953"
             ],
             [
              0.7777777777777778,
              "#fb9f3a"
             ],
             [
              0.8888888888888888,
              "#fdca26"
             ],
             [
              1,
              "#f0f921"
             ]
            ],
            "type": "heatmap"
           }
          ],
          "heatmapgl": [
           {
            "colorbar": {
             "outlinewidth": 0,
             "ticks": ""
            },
            "colorscale": [
             [
              0,
              "#0d0887"
             ],
             [
              0.1111111111111111,
              "#46039f"
             ],
             [
              0.2222222222222222,
              "#7201a8"
             ],
             [
              0.3333333333333333,
              "#9c179e"
             ],
             [
              0.4444444444444444,
              "#bd3786"
             ],
             [
              0.5555555555555556,
              "#d8576b"
             ],
             [
              0.6666666666666666,
              "#ed7953"
             ],
             [
              0.7777777777777778,
              "#fb9f3a"
             ],
             [
              0.8888888888888888,
              "#fdca26"
             ],
             [
              1,
              "#f0f921"
             ]
            ],
            "type": "heatmapgl"
           }
          ],
          "histogram": [
           {
            "marker": {
             "pattern": {
              "fillmode": "overlay",
              "size": 10,
              "solidity": 0.2
             }
            },
            "type": "histogram"
           }
          ],
          "histogram2d": [
           {
            "colorbar": {
             "outlinewidth": 0,
             "ticks": ""
            },
            "colorscale": [
             [
              0,
              "#0d0887"
             ],
             [
              0.1111111111111111,
              "#46039f"
             ],
             [
              0.2222222222222222,
              "#7201a8"
             ],
             [
              0.3333333333333333,
              "#9c179e"
             ],
             [
              0.4444444444444444,
              "#bd3786"
             ],
             [
              0.5555555555555556,
              "#d8576b"
             ],
             [
              0.6666666666666666,
              "#ed7953"
             ],
             [
              0.7777777777777778,
              "#fb9f3a"
             ],
             [
              0.8888888888888888,
              "#fdca26"
             ],
             [
              1,
              "#f0f921"
             ]
            ],
            "type": "histogram2d"
           }
          ],
          "histogram2dcontour": [
           {
            "colorbar": {
             "outlinewidth": 0,
             "ticks": ""
            },
            "colorscale": [
             [
              0,
              "#0d0887"
             ],
             [
              0.1111111111111111,
              "#46039f"
             ],
             [
              0.2222222222222222,
              "#7201a8"
             ],
             [
              0.3333333333333333,
              "#9c179e"
             ],
             [
              0.4444444444444444,
              "#bd3786"
             ],
             [
              0.5555555555555556,
              "#d8576b"
             ],
             [
              0.6666666666666666,
              "#ed7953"
             ],
             [
              0.7777777777777778,
              "#fb9f3a"
             ],
             [
              0.8888888888888888,
              "#fdca26"
             ],
             [
              1,
              "#f0f921"
             ]
            ],
            "type": "histogram2dcontour"
           }
          ],
          "mesh3d": [
           {
            "colorbar": {
             "outlinewidth": 0,
             "ticks": ""
            },
            "type": "mesh3d"
           }
          ],
          "parcoords": [
           {
            "line": {
             "colorbar": {
              "outlinewidth": 0,
              "ticks": ""
             }
            },
            "type": "parcoords"
           }
          ],
          "pie": [
           {
            "automargin": true,
            "type": "pie"
           }
          ],
          "scatter": [
           {
            "fillpattern": {
             "fillmode": "overlay",
             "size": 10,
             "solidity": 0.2
            },
            "type": "scatter"
           }
          ],
          "scatter3d": [
           {
            "line": {
             "colorbar": {
              "outlinewidth": 0,
              "ticks": ""
             }
            },
            "marker": {
             "colorbar": {
              "outlinewidth": 0,
              "ticks": ""
             }
            },
            "type": "scatter3d"
           }
          ],
          "scattercarpet": [
           {
            "marker": {
             "colorbar": {
              "outlinewidth": 0,
              "ticks": ""
             }
            },
            "type": "scattercarpet"
           }
          ],
          "scattergeo": [
           {
            "marker": {
             "colorbar": {
              "outlinewidth": 0,
              "ticks": ""
             }
            },
            "type": "scattergeo"
           }
          ],
          "scattergl": [
           {
            "marker": {
             "colorbar": {
              "outlinewidth": 0,
              "ticks": ""
             }
            },
            "type": "scattergl"
           }
          ],
          "scattermapbox": [
           {
            "marker": {
             "colorbar": {
              "outlinewidth": 0,
              "ticks": ""
             }
            },
            "type": "scattermapbox"
           }
          ],
          "scatterpolar": [
           {
            "marker": {
             "colorbar": {
              "outlinewidth": 0,
              "ticks": ""
             }
            },
            "type": "scatterpolar"
           }
          ],
          "scatterpolargl": [
           {
            "marker": {
             "colorbar": {
              "outlinewidth": 0,
              "ticks": ""
             }
            },
            "type": "scatterpolargl"
           }
          ],
          "scatterternary": [
           {
            "marker": {
             "colorbar": {
              "outlinewidth": 0,
              "ticks": ""
             }
            },
            "type": "scatterternary"
           }
          ],
          "surface": [
           {
            "colorbar": {
             "outlinewidth": 0,
             "ticks": ""
            },
            "colorscale": [
             [
              0,
              "#0d0887"
             ],
             [
              0.1111111111111111,
              "#46039f"
             ],
             [
              0.2222222222222222,
              "#7201a8"
             ],
             [
              0.3333333333333333,
              "#9c179e"
             ],
             [
              0.4444444444444444,
              "#bd3786"
             ],
             [
              0.5555555555555556,
              "#d8576b"
             ],
             [
              0.6666666666666666,
              "#ed7953"
             ],
             [
              0.7777777777777778,
              "#fb9f3a"
             ],
             [
              0.8888888888888888,
              "#fdca26"
             ],
             [
              1,
              "#f0f921"
             ]
            ],
            "type": "surface"
           }
          ],
          "table": [
           {
            "cells": {
             "fill": {
              "color": "#EBF0F8"
             },
             "line": {
              "color": "white"
             }
            },
            "header": {
             "fill": {
              "color": "#C8D4E3"
             },
             "line": {
              "color": "white"
             }
            },
            "type": "table"
           }
          ]
         },
         "layout": {
          "annotationdefaults": {
           "arrowcolor": "#2a3f5f",
           "arrowhead": 0,
           "arrowwidth": 1
          },
          "autotypenumbers": "strict",
          "coloraxis": {
           "colorbar": {
            "outlinewidth": 0,
            "ticks": ""
           }
          },
          "colorscale": {
           "diverging": [
            [
             0,
             "#8e0152"
            ],
            [
             0.1,
             "#c51b7d"
            ],
            [
             0.2,
             "#de77ae"
            ],
            [
             0.3,
             "#f1b6da"
            ],
            [
             0.4,
             "#fde0ef"
            ],
            [
             0.5,
             "#f7f7f7"
            ],
            [
             0.6,
             "#e6f5d0"
            ],
            [
             0.7,
             "#b8e186"
            ],
            [
             0.8,
             "#7fbc41"
            ],
            [
             0.9,
             "#4d9221"
            ],
            [
             1,
             "#276419"
            ]
           ],
           "sequential": [
            [
             0,
             "#0d0887"
            ],
            [
             0.1111111111111111,
             "#46039f"
            ],
            [
             0.2222222222222222,
             "#7201a8"
            ],
            [
             0.3333333333333333,
             "#9c179e"
            ],
            [
             0.4444444444444444,
             "#bd3786"
            ],
            [
             0.5555555555555556,
             "#d8576b"
            ],
            [
             0.6666666666666666,
             "#ed7953"
            ],
            [
             0.7777777777777778,
             "#fb9f3a"
            ],
            [
             0.8888888888888888,
             "#fdca26"
            ],
            [
             1,
             "#f0f921"
            ]
           ],
           "sequentialminus": [
            [
             0,
             "#0d0887"
            ],
            [
             0.1111111111111111,
             "#46039f"
            ],
            [
             0.2222222222222222,
             "#7201a8"
            ],
            [
             0.3333333333333333,
             "#9c179e"
            ],
            [
             0.4444444444444444,
             "#bd3786"
            ],
            [
             0.5555555555555556,
             "#d8576b"
            ],
            [
             0.6666666666666666,
             "#ed7953"
            ],
            [
             0.7777777777777778,
             "#fb9f3a"
            ],
            [
             0.8888888888888888,
             "#fdca26"
            ],
            [
             1,
             "#f0f921"
            ]
           ]
          },
          "colorway": [
           "#636efa",
           "#EF553B",
           "#00cc96",
           "#ab63fa",
           "#FFA15A",
           "#19d3f3",
           "#FF6692",
           "#B6E880",
           "#FF97FF",
           "#FECB52"
          ],
          "font": {
           "color": "#2a3f5f"
          },
          "geo": {
           "bgcolor": "white",
           "lakecolor": "white",
           "landcolor": "#E5ECF6",
           "showlakes": true,
           "showland": true,
           "subunitcolor": "white"
          },
          "hoverlabel": {
           "align": "left"
          },
          "hovermode": "closest",
          "mapbox": {
           "style": "light"
          },
          "paper_bgcolor": "white",
          "plot_bgcolor": "#E5ECF6",
          "polar": {
           "angularaxis": {
            "gridcolor": "white",
            "linecolor": "white",
            "ticks": ""
           },
           "bgcolor": "#E5ECF6",
           "radialaxis": {
            "gridcolor": "white",
            "linecolor": "white",
            "ticks": ""
           }
          },
          "scene": {
           "xaxis": {
            "backgroundcolor": "#E5ECF6",
            "gridcolor": "white",
            "gridwidth": 2,
            "linecolor": "white",
            "showbackground": true,
            "ticks": "",
            "zerolinecolor": "white"
           },
           "yaxis": {
            "backgroundcolor": "#E5ECF6",
            "gridcolor": "white",
            "gridwidth": 2,
            "linecolor": "white",
            "showbackground": true,
            "ticks": "",
            "zerolinecolor": "white"
           },
           "zaxis": {
            "backgroundcolor": "#E5ECF6",
            "gridcolor": "white",
            "gridwidth": 2,
            "linecolor": "white",
            "showbackground": true,
            "ticks": "",
            "zerolinecolor": "white"
           }
          },
          "shapedefaults": {
           "line": {
            "color": "#2a3f5f"
           }
          },
          "ternary": {
           "aaxis": {
            "gridcolor": "white",
            "linecolor": "white",
            "ticks": ""
           },
           "baxis": {
            "gridcolor": "white",
            "linecolor": "white",
            "ticks": ""
           },
           "bgcolor": "#E5ECF6",
           "caxis": {
            "gridcolor": "white",
            "linecolor": "white",
            "ticks": ""
           }
          },
          "title": {
           "x": 0.05
          },
          "xaxis": {
           "automargin": true,
           "gridcolor": "white",
           "linecolor": "white",
           "ticks": "",
           "title": {
            "standoff": 15
           },
           "zerolinecolor": "white",
           "zerolinewidth": 2
          },
          "yaxis": {
           "automargin": true,
           "gridcolor": "white",
           "linecolor": "white",
           "ticks": "",
           "title": {
            "standoff": 15
           },
           "zerolinecolor": "white",
           "zerolinewidth": 2
          }
         }
        },
        "title": {
         "text": "BTC-USD price predictions",
         "x": 0.3
        }
       }
      }
     },
     "metadata": {},
     "output_type": "display_data"
    }
   ],
   "source": [
    "import plotly.graph_objects as go\n",
    "\n",
    "import pandas as pd\n",
    "from datetime import datetime\n",
    "\n",
    "df = val_loader.dataset.dataframe.iloc[221:]\n",
    "\n",
    "date = val_loader.dataset.date\n",
    "y_hat = np.array(y_hat).reshape(-1)\n",
    "\n",
    "fig = go.Figure(data=[\n",
    "        go.Candlestick(\n",
    "            x=df['Date'],\n",
    "            open=df['Open'],\n",
    "            high=df['High'],\n",
    "            low=df['Low'],\n",
    "            close=df['Close'],\n",
    "            name='Actual Price'\n",
    "        ),\n",
    "        go.Scatter(\n",
    "            x=df['Date'],\n",
    "            y=df['Close'],\n",
    "            line=dict(color='blue'),\n",
    "            name='Actual Close'\n",
    "        ),\n",
    "        go.Scatter(\n",
    "            x=predict_out['Date'],\n",
    "            y=predict_out['Predict Close'],\n",
    "            line=dict(color='red'),\n",
    "            name='Pred. Close'\n",
    "        ),\n",
    "    ]).update_layout(title_text=tickers+' price predictions', title_x=0.3)\n",
    "\n",
    "fig.show()"
   ]
  }
 ],
 "metadata": {
  "kernelspec": {
   "display_name": "Python 3",
   "language": "python",
   "name": "python3"
  },
  "language_info": {
   "codemirror_mode": {
    "name": "ipython",
    "version": 3
   },
   "file_extension": ".py",
   "mimetype": "text/x-python",
   "name": "python",
   "nbconvert_exporter": "python",
   "pygments_lexer": "ipython3",
   "version": "3.10.11"
  }
 },
 "nbformat": 4,
 "nbformat_minor": 2
}
