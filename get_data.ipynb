{
 "cells": [
  {
   "cell_type": "code",
   "execution_count": 1,
   "metadata": {},
   "outputs": [],
   "source": [
    "import pandas as pd\n",
    "import numpy as np\n",
    "from sklearn.model_selection import train_test_split\n",
    "import pandas_ta as ta\n",
    "from preprocessor import preprocessing"
   ]
  },
  {
   "cell_type": "markdown",
   "metadata": {},
   "source": [
    "## Getting stock price data from API's"
   ]
  },
  {
   "cell_type": "code",
   "execution_count": 2,
   "metadata": {},
   "outputs": [],
   "source": [
    "import yfinance\n",
    "\n",
    "tickers = 'BTC-USD'\n",
    "\n",
    "tick = yfinance.Ticker(tickers)\n",
    "prices = tick.history(interval=\"1d\", period='max', end=\"2023-01-01\")[['Open', 'High', 'Low', 'Close', 'Volume']].reset_index()\n",
    "prices_val = tick.history(interval=\"1d\", start='2023-01-01')[['Open', 'High', 'Low', 'Close', 'Volume']].reset_index()"
   ]
  },
  {
   "cell_type": "markdown",
   "metadata": {},
   "source": [
    "## Preprocess data\n",
    "add stragy feature, normalize, windows split, split train test"
   ]
  },
  {
   "cell_type": "code",
   "execution_count": 3,
   "metadata": {},
   "outputs": [],
   "source": [
    "preprocess_param = {\n",
    "    'win_size':31,\n",
    "    'stride':1,\n",
    "    'split':True,\n",
    "    'number_y':1,\n",
    "    'random_state':420,\n",
    "    'test_size':0.2,\n",
    "}\n",
    "\n",
    "v_preprocess_param = {\n",
    "    'win_size':31,\n",
    "    'stride':1,\n",
    "    'split':False,\n",
    "    'number_y':1,\n",
    "    'random_state':420,\n",
    "}"
   ]
  },
  {
   "cell_type": "code",
   "execution_count": 4,
   "metadata": {},
   "outputs": [],
   "source": [
    "(X_train, X_test, y_train, y_test), feature = preprocessing(prices, preprocess_param)\n",
    "(X_val, y_val), _ = preprocessing(prices_val, v_preprocess_param)"
   ]
  }
 ],
 "metadata": {
  "kernelspec": {
   "display_name": "Python 3",
   "language": "python",
   "name": "python3"
  },
  "language_info": {
   "codemirror_mode": {
    "name": "ipython",
    "version": 3
   },
   "file_extension": ".py",
   "mimetype": "text/x-python",
   "name": "python",
   "nbconvert_exporter": "python",
   "pygments_lexer": "ipython3",
   "version": "3.10.11"
  }
 },
 "nbformat": 4,
 "nbformat_minor": 2
}
